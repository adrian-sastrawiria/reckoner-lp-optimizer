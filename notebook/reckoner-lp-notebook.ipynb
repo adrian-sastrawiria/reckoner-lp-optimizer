{
  "nbformat": 4,
  "nbformat_minor": 0,
  "metadata": {
    "kernelspec": {
      "display_name": "Python 3",
      "language": "python",
      "name": "python3"
    },
    "language_info": {
      "codemirror_mode": {
        "name": "ipython",
        "version": 3
      },
      "file_extension": ".py",
      "mimetype": "text/x-python",
      "name": "python",
      "nbconvert_exporter": "python",
      "pygments_lexer": "ipython3",
      "version": "3.7.3"
    },
    "colab": {
      "name": "[MASTER_DO_NOT_TOUCH]_Zappa_v0_Google_Colab.ipynb",
      "provenance": [],
      "collapsed_sections": [],
      "include_colab_link": true
    }
  },
  "cells": [
    {
      "cell_type": "markdown",
      "metadata": {
        "id": "view-in-github",
        "colab_type": "text"
      },
      "source": [
        "<a href=\"https://colab.research.google.com/github/adrian-sastrawiria/reckoner-lp-optimizer/blob/main/reckoner-lp-notebook.ipynb\" target=\"_parent\"><img src=\"https://colab.research.google.com/assets/colab-badge.svg\" alt=\"Open In Colab\"/></a>"
      ]
    },
    {
      "cell_type": "markdown",
      "metadata": {
        "id": "4Iva5LY-wsmI"
      },
      "source": [
        "**Zappa v0**\n",
        "last modified : 2020-08-13 12:00\n",
        "last modified by : adrian.m@go-jek.com"
      ]
    },
    {
      "cell_type": "markdown",
      "metadata": {
        "id": "_4wTHhp3I4mf"
      },
      "source": [
        "## 0. Installing pulp and importing packages needed"
      ]
    },
    {
      "cell_type": "code",
      "metadata": {
        "id": "cEvhtruwwsmO"
      },
      "source": [
        "import sys\n",
        "!{sys.executable} -m pip install pulp\n",
        "!{sys.executable} -m pip install gspread\n",
        "\n",
        "import gspread\n",
        "import os\n",
        "import pandas as pd\n",
        "import numpy as np\n",
        "import pulp as p\n",
        "import datetime \n",
        "\n",
        "pd.set_option('display.float_format', lambda x: '%.2f' % x)"
      ],
      "execution_count": null,
      "outputs": []
    },
    {
      "cell_type": "markdown",
      "metadata": {
        "id": "fb17bOmBJHVx"
      },
      "source": [
        "### 0.1. Mounting GDrive for Google Colab\n",
        "Follow the prompts, enter the authorization codes for GDrive & Google SDK"
      ]
    },
    {
      "cell_type": "code",
      "metadata": {
        "id": "TyL3uJVTI0T9"
      },
      "source": [
        "from google.colab import drive\n",
        "from google.colab import auth\n",
        "from oauth2client.client import GoogleCredentials\n",
        "\n",
        "drive.mount('/content/gdrive')\n",
        "root_path = '/content/gdrive/Shared drives/Zappa Solver'\n",
        "os.chdir(root_path)\n",
        "\n",
        "auth.authenticate_user()\n",
        "gc = gspread.authorize(GoogleCredentials.get_application_default())"
      ],
      "execution_count": null,
      "outputs": []
    },
    {
      "cell_type": "markdown",
      "metadata": {
        "id": "8zRrwTX0LoFo"
      },
      "source": [
        "### 0.2. Defining Functions needed by the script"
      ]
    },
    {
      "cell_type": "code",
      "metadata": {
        "id": "ifZiqqNDLkUr"
      },
      "source": [
        "# Defining Function gsdf to take data from Google Sheet and convert it to DataFrame\n",
        "def gsdf(x,y):\n",
        "  ws = gc.open(x).worksheet(y)\n",
        "  rows = ws.get_all_values()\n",
        "  df = pd.DataFrame.from_records(rows)\n",
        "  new_header = df.iloc[0] #grab the first row for the header\n",
        "  df = df[1:] #take the data less the header row\n",
        "  df.columns = new_header #set the header row as the df header\n",
        "  return df\n",
        "\n",
        "# Defining Function zappa_output to prepare linear programming output sheets \n",
        "def zappa_output(x):\n",
        "  ou = fin.pivot(index='sortv', columns='sortt', values=[x])\n",
        "  ou.columns = ou.columns.droplevel(0) \n",
        "  ou.columns.name = None\n",
        "  ou = ou.reset_index()\n",
        "  ou = ou.merge(dt_pop[['index',seg_column_pop]], left_on = 'sortv', right_on = 'index', how='inner')\n",
        "  cols = ou.columns.tolist()\n",
        "  cols = cols[-1:] + cols[:-1]\n",
        "  ou = ou[cols].drop(columns=['sortv', 'index']).add_prefix('Treatment ')\n",
        "  return ou\n",
        "  "
      ],
      "execution_count": null,
      "outputs": []
    },
    {
      "cell_type": "markdown",
      "metadata": {
        "id": "m4awlShowsmW"
      },
      "source": [
        "## 1. Input Preparation"
      ]
    },
    {
      "cell_type": "code",
      "metadata": {
        "id": "75GEzOALwsmY"
      },
      "source": [
        "filename_all = '2w_deadpool_tier1_from_wb24aug' # put the filename that contains cost input sheet (CPU & Inc Unit per User metrics) & population input sheet\n",
        "\n",
        "city = 'Tier 1'    # input the city you are optimizing\n",
        "budget = 4000 # input the budget\n",
        "pop_pctg = 1   # input the proportion of population you want to assign to the model"
      ],
      "execution_count": null,
      "outputs": []
    },
    {
      "cell_type": "markdown",
      "metadata": {
        "id": "sF-LCCRZKmom"
      },
      "source": [
        "### 1.1. Loading CPU and Inc Unit Data\n"
      ]
    },
    {
      "cell_type": "code",
      "metadata": {
        "id": "SjqMZGSTwsmc"
      },
      "source": [
        "# Loading CPU and Inc Unit data\n",
        "dt = gsdf(filename_all,'cost_input')\n",
        "\n",
        "seg_column = dt.columns[0]\n",
        "trt_column = dt.columns[1]\n",
        "cpu_column = dt.columns[2]\n",
        "inc_column = dt.columns[3]\n",
        "\n",
        "\n",
        "dt[cpu_column] = dt[cpu_column].astype('float64')\n",
        "dt[inc_column] = dt[inc_column].astype('float64')\n",
        "\n",
        "dt['vars'] = dt[seg_column] + dt[trt_column]\n",
        "dt['vars'] = dt['vars'].str.replace(\" \",\"\")\n",
        "dt['vars'] = dt['vars'].str.replace(\"'\",\"\")\n",
        "dt['vars'] = dt['vars'].str.replace(\"-\",\"\")\n",
        "dt['SegmentCod'] = dt[seg_column].str.replace(\" \", \"\")\n",
        "dt['SegmentCod'] = dt['SegmentCod'].str.replace(\"'\", \"\")\n",
        "dt['SegmentCod'] = dt['SegmentCod'].str.replace(\"-\", \"\")\n",
        "dt"
      ],
      "execution_count": null,
      "outputs": []
    },
    {
      "cell_type": "markdown",
      "metadata": {
        "id": "2fnmqwwELN5Q"
      },
      "source": [
        "### 1.2. Loading Population Size per Segment Data"
      ]
    },
    {
      "cell_type": "code",
      "metadata": {
        "id": "dd4gRn3uwsmi"
      },
      "source": [
        "# Loading Population Size per Segment data\n",
        "dt_pop = gsdf(filename_all, 'pop_input')\n",
        "\n",
        "\n",
        "seg_column_pop = dt_pop.columns[0]\n",
        "pop_column_pop = dt_pop.columns[1]\n",
        "\n",
        "dt_pop[pop_column_pop] = dt_pop[pop_column_pop].astype('int64')\n",
        "\n",
        "dt_pop[pop_column_pop] = dt_pop[pop_column_pop] * pop_pctg\n",
        "dt_pop[pop_column_pop] = dt_pop[pop_column_pop].round()\n",
        "dt_pop['SegmentCod'] = dt_pop[seg_column_pop].str.replace(\" \", \"\")\n",
        "dt_pop['SegmentCod'] = dt_pop['SegmentCod'].str.replace(\"'\", \"\")\n",
        "dt_pop['SegmentCod'] = dt_pop['SegmentCod'].str.replace(\"-\", \"\")\n",
        "dt_pop.reset_index(level=0, inplace=True)\n",
        "dt_pop.head()"
      ],
      "execution_count": null,
      "outputs": []
    },
    {
      "cell_type": "markdown",
      "metadata": {
        "id": "5xX84bphwsmn"
      },
      "source": [
        "## 2. Setting Up Linear Programming Model"
      ]
    },
    {
      "cell_type": "code",
      "metadata": {
        "id": "OLXChsTFwsmo"
      },
      "source": [
        "# Setting Up Problem\n",
        "lp = p.LpProblem('Problem', p.LpMaximize)\n",
        "\n",
        "# Preparing Objective Function\n",
        "fob = ''\n",
        "for index, row in dt.iterrows():\n",
        "    fob = fob + str(row[inc_column]) + ' * ' + str(row['vars']) + ' + '\n",
        "    \n",
        "fob = fob.rstrip(' + ')\n",
        "\n",
        "# Preparing Cost Constraint\n",
        "constraint_cost = ''\n",
        "\n",
        "for index, row in dt.iterrows():\n",
        "    constraint_cost = constraint_cost + str(row[cpu_column]) + ' * ' + str(row['vars']) + ' + '\n",
        "    \n",
        "constraint_cost = constraint_cost.rstrip(' + ') + ' <= ' + str(budget)\n",
        "\n",
        "# Setting up Variables\n",
        "for index, row in dt.iterrows():\n",
        "    globals()[row['vars']] = p.LpVariable(row['vars'], lowBound = 0, cat='Integer')\n",
        "    \n",
        "# Setting Objective Function\n",
        "lp += eval(fob)\n",
        "\n",
        "#Setting Cost Constraint\n",
        "lp += eval(constraint_cost)\n",
        "\n",
        "# Setting Up Population Constraint\n",
        "for index, row in dt_pop.iterrows():\n",
        "        b = ''\n",
        "        pop = row[pop_column_pop]\n",
        "        segname = row[seg_column_pop]\n",
        "        for index, row in dt.iterrows():\n",
        "            if row[seg_column_pop] == segname:\n",
        "                b = b + str(row['vars']) + ' + '\n",
        "            else:\n",
        "                b = b\n",
        "        if b != '':\n",
        "            b = b.rstrip(' + ') + ' <= ' + str(pop)\n",
        "            globals()[segname.replace(' ','')] = b\n",
        "            lp += eval(b)\n",
        "\n",
        "print(lp)"
      ],
      "execution_count": null,
      "outputs": []
    },
    {
      "cell_type": "markdown",
      "metadata": {
        "id": "LwDSXqxxwsmt"
      },
      "source": [
        "## 3. Running the Linear Programming Model"
      ]
    },
    {
      "cell_type": "code",
      "metadata": {
        "id": "T0rsuSBewsmu"
      },
      "source": [
        "# Solving the Model\n",
        "status = lp.solve() \n",
        "\n",
        "# Evaluation Metrics\n",
        "cst = str(lp.constraints['_C1']).replace(' <= ' + str(budget),'').rstrip('.0')\n",
        "cst = cst.replace('*','*p.value(').replace(' +',') +') + ')'\n",
        "absorbed_budget = eval(cst)\n",
        "st = pd.DataFrame([['Optimized Cost Per Incremental Unit',round(budget/p.value(lp.objective),2)]\n",
        "                   ,  ['Incremental Unit',round(p.value(lp.objective),0)]\n",
        "                   ,  ['Assigned Budget',budget]\n",
        "                   ,  ['Absorbed Budget',absorbed_budget]\n",
        "                  ], columns = ['Metrics', 'Value'])\n",
        "st.astype({'Metrics': 'str', 'Value' : 'float'})\n",
        "print('Evaluation')\n",
        "print(st)"
      ],
      "execution_count": null,
      "outputs": []
    },
    {
      "cell_type": "markdown",
      "metadata": {
        "id": "rrDTPHRqwsmz"
      },
      "source": [
        "## 4. Generating Output Files"
      ]
    },
    {
      "cell_type": "code",
      "metadata": {
        "scrolled": false,
        "id": "uTd8TJkMwsm0"
      },
      "source": [
        "# Generating Sheet - Optimized Users Assignment\n",
        "asm = pd.DataFrame(dt[[seg_column,trt_column,'vars']], columns=[seg_column,trt_column,'vars','AssignedUsers'])\n",
        "for index, row in asm.iterrows():\n",
        "    asm.loc[index, 'AssignedUsers'] = p.value(eval(asm.loc[index]['vars']))\n",
        "asm.head()"
      ],
      "execution_count": null,
      "outputs": []
    },
    {
      "cell_type": "markdown",
      "metadata": {
        "id": "F4VdopDAL3XA"
      },
      "source": [
        "### 4.1. Getting All Unique Segment & Treatment Values"
      ]
    },
    {
      "cell_type": "code",
      "metadata": {
        "id": "DfJS1iXxwsm4"
      },
      "source": [
        "# Getting All Unique Segment Values\n",
        "dts = pd.DataFrame(dt.Segment.unique(), columns=[seg_column])\n",
        "\n",
        "# Getting All Treatment Values\n",
        "treat = pd.to_numeric(dt[trt_column].str.replace('Treatment ',''))\n",
        "treat = treat.sort_values(ascending=True)\n",
        "treat = int(treat.tail().unique())\n",
        "dtt = pd.DataFrame(columns=[trt_column,'sortt'])\n",
        "treat = treat + 1\n",
        "x = 0\n",
        "\n",
        "for x in range(1,treat):\n",
        "    dtt.loc[x,trt_column] = 'Treatment ' + str(x)\n",
        "    dtt.loc[x,'sortt'] = x\n",
        "\n",
        "dtc = dtt[trt_column]"
      ],
      "execution_count": null,
      "outputs": []
    },
    {
      "cell_type": "markdown",
      "metadata": {
        "id": "uoBDXbxkMAHG"
      },
      "source": [
        "### 4.2. Building Main Result Dataframe"
      ]
    },
    {
      "cell_type": "code",
      "metadata": {
        "id": "T_77TPBzwsm8"
      },
      "source": [
        "# Building Main Result Dataframe\n",
        "fin = pd.DataFrame(index=dt.Segment, columns=dtc.values.flatten())\n",
        "fin.reset_index(level=0, inplace=True)\n",
        "fin = fin.drop_duplicates()\n",
        "fin.reset_index().drop(columns='index')\n",
        "fin = fin.melt(id_vars = seg_column)\n",
        "fin = fin.drop(columns='value')\n",
        "fin = fin.merge(dt_pop[[seg_column,'index']], on = seg_column)\n",
        "fin = fin.rename(columns={\"variable\": \"Treatment\", \"index\":\"sortv\"})\n",
        "fin = fin.merge(dtt[[trt_column, 'sortt']], on = trt_column)\n",
        "fin['vars'] = fin[seg_column] + fin[trt_column]\n",
        "fin['vars'] = fin['vars'].str.replace(\" \",\"\")\n",
        "fin['vars'] = fin['vars'].str.replace(\"'\",\"\")\n",
        "fin['vars'] = fin['vars'].str.replace(\"-\",\"\")\n",
        "fin = fin.merge(dt[['vars',cpu_column, inc_column]], on = 'vars', how='left').fillna(0)\n",
        "fin = fin.merge(asm[['vars','AssignedUsers']], on = 'vars', how='left').fillna(0).sort_values(by=['sortv','sortt'], ascending=True)"
      ],
      "execution_count": null,
      "outputs": []
    },
    {
      "cell_type": "markdown",
      "metadata": {
        "id": "XA0PxzhvMUyu"
      },
      "source": [
        "## 5. Compiling Excel File Output"
      ]
    },
    {
      "cell_type": "code",
      "metadata": {
        "id": "s2ZgfzoswsnM"
      },
      "source": [
        "# Building user assignment pivot\n",
        "ua = zappa_output('AssignedUsers')\n",
        "\n",
        "# Building CPU pivot\n",
        "cp = zappa_output(cpu_column)\n",
        "\n",
        "# Building IRPU pivot\n",
        "ip = zappa_output(inc_column)\n",
        "\n",
        "# Generating Excel File\n",
        "budname = 'budget_' + str(round(budget/1000000,2)).replace('.','_')\n",
        "popname = 'pop_' + str(round(pop_pctg * 100)) + 'pc_'\n",
        "curtime = datetime.datetime.now()\n",
        "ts = datetime.datetime.strftime(curtime, '_%Y%m%d_%H%M')\n",
        "\n",
        "with pd.ExcelWriter(root_path + '/Results/' + 'Zappa_Result_' + city + '_' + budname + '_' + popname + ts +'.xlsx') as writer:\n",
        "    st.to_excel(writer, sheet_name='Summary', index=False)\n",
        "    ua.to_excel(writer, sheet_name='User Assignment - Pivot', index=False)\n",
        "    cp.to_excel(writer, sheet_name= cpu_column + ' - Pivot', index=False)\n",
        "    ip.to_excel(writer, sheet_name= inc_column + ' - Pivot', index=False)\n",
        "    asm.to_excel(writer, sheet_name='User Assignment-Raw', index=False)\n",
        "finmessage = 'Output File Directory :' + os.getcwd() + '/Results/' + 'Zappa_Result_' + city + '_' + budname + '_' + popname + ts +'.xlsx'\n",
        "print(finmessage)"
      ],
      "execution_count": null,
      "outputs": []
    }
  ]
}